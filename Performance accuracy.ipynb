{
 "cells": [
  {
   "cell_type": "code",
   "execution_count": null,
   "id": "a09f409d-23ff-431d-97a5-d4bc34ab9fcb",
   "metadata": {},
   "outputs": [],
   "source": [
    "from sklearn.datasets import load_iris\n",
    "from sklearn.model_selection import train_test_split\n",
    "from sklearn.preprocessing import MinMaxScaler, RobustScaler, StandardScaler\n",
    "import numpy as np\n",
    "import pandas as pd\n",
    "from sklearn.decomposition import PCA\n",
    "import matplotlib.pyplot as plt\n",
    "%matplotlib inline\n",
    "\n",
    "from sklearn.model_selection import StratifiedKFold, GridSearchCV, RandomizedSearchCV\n",
    "from sklearn.metrics import accuracy_score, recall_score, precision_score, confusion_matrix\n",
    "from matplotlib.colors import ListedColormap\n",
    "import seaborn as sns\n",
    "import warnings; warnings.filterwarnings('ignore')\n",
    "\n",
    "from sklearn.linear_model import LogisticRegression\n",
    "from sklearn.neighbors import KNeighborsClass"
   ]
  },
  {
   "cell_type": "code",
   "execution_count": null,
   "id": "fa579fe9-adc5-4e2a-bd3d-b2ea5feb1395",
   "metadata": {},
   "outputs": [],
   "source": [
    "df = pd.read_csv(\"Differentially_expressed_genes\", sep = \";\", index_col= \"gene\")"
   ]
  },
  {
   "cell_type": "code",
   "execution_count": null,
   "id": "c025aeaf-6eb1-48cc-b76e-ab391e5c3cd8",
   "metadata": {},
   "outputs": [],
   "source": [
    "X = df[genes]\n",
    "y = df.iloc[ : , 48]"
   ]
  },
  {
   "cell_type": "code",
   "execution_count": null,
   "id": "f60bc0c8-e6d7-4026-a302-7bf0e167a51b",
   "metadata": {},
   "outputs": [],
   "source": [
    "target_names = ['Cluster 1', 'Cluster 2', 'Cluster 3']\n",
    "n_samples, n_features = X.shape\n",
    "print('Number of samples:', n_samples)\n",
    "print('Number of features:', n_features)"
   ]
  },
  {
   "cell_type": "code",
   "execution_count": null,
   "id": "6023ac99-0bfb-4c8e-a091-3d9ca3575ee9",
   "metadata": {},
   "outputs": [],
   "source": [
    "X_train, X_test, y_train, y_test = train_test_split(X, y, \n",
    "                     test_size= 0.25, \n",
    "                     stratify= y,\n",
    "                     random_state= 123)\n",
    "print('X_train shape:', X_train.shape)\n",
    "print('X_test shape:', X_test.shape)"
   ]
  },
  {
   "cell_type": "code",
   "execution_count": null,
   "id": "b33a679f-d038-4819-b12f-881d8d2fe09e",
   "metadata": {},
   "outputs": [],
   "source": [
    "scaler = MinMaxScaler(feature_range=(0, 1))\n",
    "X_train = scaler.fit_transform(X_train)\n",
    "X_test = scaler.transform(X_test)"
   ]
  },
  {
   "cell_type": "code",
   "execution_count": null,
   "id": "45f09c50-4883-4050-be1d-89fb4e7433b3",
   "metadata": {},
   "outputs": [],
   "source": [
    "def run_classifier(clf, param_grid, title):\n",
    "    # -----------------------------------------------------\n",
    "    cv = StratifiedKFold(n_splits= 3, shuffle = True, random_state= 123)\n",
    "    # Randomized grid search\n",
    "    n_iter_search = 10\n",
    "    gs = RandomizedSearchCV(clf, \n",
    "                            param_distributions = param_grid,\n",
    "                            n_iter = n_iter_search, \n",
    "                            cv = cv,\n",
    "                            scoring= 'accuracy')\n",
    "    # -----------------------------------------------------\n",
    "    # Train model\n",
    "    gs.fit(X_train, y_train)  \n",
    "    print(\"The best parameters are %s\" % (gs.best_params_)) \n",
    "    # Predict on test set\n",
    "    y_pred = gs.best_estimator_.predict(X_test)\n",
    "    # Get Probability estimates\n",
    "    y_prob = gs.best_estimator_.predict_proba(X_test)[:, 1]\n",
    "    # -----------------------------------------------------\n",
    "    print('Accuracy score: %.2f%%' %(accuracy_score(y_test, y_pred)*100))  \n",
    "    print('Precision score: %.2f%%' % (precision_score(y_test, y_pred, average= 'weighted')*100))\n",
    "    print('Recall score: %.2f%%' % (recall_score(y_test, y_pred, average= 'weighted')*100))\n",
    "    # -----------------------------------------------------\n",
    "    # Plot confusion matrix\n",
    "    fig, [ax1, ax2] = plt.subplots(1, 2, figsize=(10, 5))\n",
    "    cm = confusion_matrix(y_test, y_pred)#, labels= target_names)\n",
    "    sns.heatmap(cm, annot = True, cbar = False, fmt = \"d\", linewidths = .5, cmap = \"Blues\", ax = ax1)\n",
    "    ax1.set_title(\"Confusion Matrix\")\n",
    "    ax1.set_xlabel(\"Predicted class\")\n",
    "    ax1.set_ylabel(\"Actual class\")\n",
    "    ax1.set_xticklabels(target_names)\n",
    "    ax1.set_yticklabels(target_names)\n",
    "    fig.tight_layout()\n",
    "    # -----------------------------------------------------\n",
    "    \n",
    "    plt.show()       "
   ]
  },
  {
   "cell_type": "code",
   "execution_count": null,
   "id": "fe36092c-9953-4717-afa7-8e697b787dd4",
   "metadata": {},
   "outputs": [],
   "source": [
    "from sklearn.ensemble import RandomForestClassifier\n",
    "rf = RandomForestClassifier()\n",
    "param_grid = {'n_estimators': [100, 200],\n",
    "              'max_depth': [10, 20, 100, None],\n",
    "              'max_features': ['auto', 'sqrt', None],\n",
    "              'min_samples_split': [2, 5, 10],\n",
    "              'min_samples_leaf': [1, 2, 4, 10],\n",
    "              'bootstrap': [True, False],\n",
    "              'criterion': ['gini', 'entropy']}\n",
    "run_classifier(rf, param_grid, 'Random Forest')"
   ]
  },
  {
   "cell_type": "code",
   "execution_count": null,
   "id": "af50c11e-a5c9-4627-bbae-147a263fa914",
   "metadata": {},
   "outputs": [],
   "source": [
    "rf = RandomForestClassifier(n_estimators=200, min_samples_split=5, min_samples_leaf=1,\n",
    "                            max_features='auto', criterion='gini', bootstrap=True,\n",
    "                            max_depth= 100)\n",
    "rf.fit(X_train, y_train)\n",
    "acc = accuracy_score(y_test, rf.predict(X_test))*100\n",
    "print(acc)\n",
    "rf.feature_importances_\n",
    "plt.figure(figsize = (20,30))\n",
    "plt.barh(X.columns, rf.feature_importances_)\n",
    "plt.savefig(\"RF.png\", dpi = 400)\n",
    "plt.show()"
   ]
  },
  {
   "cell_type": "code",
   "execution_count": null,
   "id": "c683d2ab-f393-4f32-8612-d3cf443571c2",
   "metadata": {},
   "outputs": [],
   "source": [
    "X.columns, rf.feature_importances_"
   ]
  }
 ],
 "metadata": {
  "kernelspec": {
   "display_name": "Python 3 (ipykernel)",
   "language": "python",
   "name": "python3"
  },
  "language_info": {
   "codemirror_mode": {
    "name": "ipython",
    "version": 3
   },
   "file_extension": ".py",
   "mimetype": "text/x-python",
   "name": "python",
   "nbconvert_exporter": "python",
   "pygments_lexer": "ipython3",
   "version": "3.9.12"
  }
 },
 "nbformat": 4,
 "nbformat_minor": 5
}
