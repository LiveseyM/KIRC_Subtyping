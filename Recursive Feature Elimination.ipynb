{
 "cells": [
  {
   "cell_type": "code",
   "execution_count": null,
   "id": "ce651edc-18b1-4d3c-9361-3abb9928cf65",
   "metadata": {},
   "outputs": [],
   "source": [
    "from numpy import mean\n",
    "from numpy import std\n",
    "from sklearn.datasets import make_classification\n",
    "from sklearn.model_selection import cross_val_score\n",
    "from sklearn.model_selection import RepeatedStratifiedKFold\n",
    "from sklearn.feature_selection import RFE\n",
    "from sklearn.tree import DecisionTreeClassifier\n",
    "from sklearn.pipeline import Pipeline\n",
    "from sklearn.svm import SVC\n",
    "from matplotlib import pyplot\n",
    "import pandas as pd\n",
    "import numpy as np\n",
    "from sklearn.preprocessing import StandardScaler, MinMaxScaler, RobustScaler\n",
    "import seaborn as sns"
   ]
  },
  {
   "cell_type": "code",
   "execution_count": null,
   "id": "d474fea7-67ae-46af-a186-b594d2899541",
   "metadata": {},
   "outputs": [],
   "source": [
    "df = pd.read_csv(\"Differentially_expressed_genes.csv\", sep = \";\", index_col= \"gene\")"
   ]
  },
  {
   "cell_type": "code",
   "execution_count": null,
   "id": "02dbbaca-37b5-4ae1-b573-bad545d3ce4b",
   "metadata": {},
   "outputs": [],
   "source": [
    "X = df.iloc[: , 0:231]\n",
    "y = df.iloc[ : , 231]"
   ]
  },
  {
   "cell_type": "code",
   "execution_count": null,
   "id": "4adac5bb-42a8-483a-b7a6-99e25a982681",
   "metadata": {},
   "outputs": [],
   "source": [
    "def get_models(svm_c, n_features):\n",
    "    models = dict()\n",
    "    for i in range(2, n_features):\n",
    "        rfe = RFE(estimator=SVC(kernel='linear', C=svm_c, gamma=0.1), n_features_to_select=i)\n",
    "        model = SVC(kernel='linear', C=svm_c)\n",
    "        models[str(i)] = Pipeline(steps=[('s',rfe), ('m',model)])\n",
    "    return models"
   ]
  },
  {
   "cell_type": "code",
   "execution_count": null,
   "id": "ab7f9b90-674e-4fc5-b247-e2226ccb96e9",
   "metadata": {},
   "outputs": [],
   "source": [
    "def evaluate_model(model, X, y):\n",
    "    cv = RepeatedStratifiedKFold(n_splits=10, n_repeats=3, random_state=123)\n",
    "    scores = cross_val_score(model, X, y, scoring='accuracy', cv=cv, n_jobs=-1, error_score='raise')\n",
    "    return scores"
   ]
  },
  {
   "cell_type": "code",
   "execution_count": null,
   "id": "85ca27b8-1f6a-4e19-926f-e050cf9e0dc5",
   "metadata": {},
   "outputs": [],
   "source": [
    "def run_rfe(models, X, y):    \n",
    "    results, names = list(), list()\n",
    "    for name, model in models.items():\n",
    "        scores = evaluate_model(model, X, y)\n",
    "        results.append(scores)\n",
    "        names.append(name)\n",
    "        print('>%s %.3f (%.3f)' % (name, mean(scores), std(scores)))\n",
    "    return results, names"
   ]
  },
  {
   "cell_type": "code",
   "execution_count": null,
   "id": "d4c599f1-7d5a-4e86-a056-b8df1ce07c53",
   "metadata": {},
   "outputs": [],
   "source": [
    "def selected_features(svm_c, n, X, y, xcols):\n",
    "    rfe = RFE(estimator=SVC(kernel='linear', C=svm_c), n_features_to_select=n)\n",
    "    rfe.fit(X,y)\n",
    "    cols = []\n",
    "    for i in range(X.shape[1]):\n",
    "        # print('Column: %d, Selected %s, Rank: % .3f' % (i, rfe.support_[i], rfe.ranking_[i]))\n",
    "        if rfe.support_[i]:\n",
    "            cols.append(xcols[i])\n",
    "    return cols"
   ]
  },
  {
   "cell_type": "code",
   "execution_count": null,
   "id": "d2b79d7d-6db2-44fd-bed3-7565a6dddb5b",
   "metadata": {},
   "outputs": [],
   "source": [
    "svm_c = 5\n",
    "xcols = X.columns\n",
    "n_features = len(xcols)\n",
    "#n_features = 20\n",
    "models = get_models(svm_c, n_features)\n",
    "#scaler = StandardScaler()\n",
    "#scaler.fit(X)\n",
    "#X = scaler.transform(X)\n",
    "#y = np.ravel(y)\n",
    "scaler = MinMaxScaler(feature_range=(0, 1))\n",
    "X = scaler.fit_transform(X)\n",
    "\n",
    "results, names = run_rfe(models, X, y)\n",
    "pyplot.boxplot(results, labels=names, showmeans=True)\n",
    "pyplot.show()\n",
    "pyplot.savefig(\"RFE.png\")"
   ]
  },
  {
   "cell_type": "code",
   "execution_count": null,
   "id": "2093b89e-0ddb-4515-9e62-def58ea6ffe5",
   "metadata": {},
   "outputs": [],
   "source": [
    "gene_remained_FRE =selected_features(svm_c, 46, X, y, xcols)"
   ]
  }
 ],
 "metadata": {
  "kernelspec": {
   "display_name": "Python 3 (ipykernel)",
   "language": "python",
   "name": "python3"
  },
  "language_info": {
   "codemirror_mode": {
    "name": "ipython",
    "version": 3
   },
   "file_extension": ".py",
   "mimetype": "text/x-python",
   "name": "python",
   "nbconvert_exporter": "python",
   "pygments_lexer": "ipython3",
   "version": "3.9.12"
  }
 },
 "nbformat": 4,
 "nbformat_minor": 5
}
